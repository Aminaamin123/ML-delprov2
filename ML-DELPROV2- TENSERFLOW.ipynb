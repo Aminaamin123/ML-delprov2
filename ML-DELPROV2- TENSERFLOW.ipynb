{
 "cells": [
  {
   "cell_type": "markdown",
   "id": "685f3834",
   "metadata": {},
   "source": [
    "# Human monitoring activity"
   ]
  },
  {
   "cell_type": "code",
   "execution_count": 30,
   "id": "78b3a6af",
   "metadata": {},
   "outputs": [],
   "source": [
    "import numpy as np\n",
    "import pandas as pd\n",
    "import matplotlib.pyplot as plt\n",
    "from sklearn.model_selection import train_test_split\n",
    "\n",
    "import tensorflow as tf\n",
    "from tensorflow.keras import Sequential\n",
    "from tensorflow.keras.layers import Flatten, Dense, Dropout, BatchNormalization\n",
    "from tensorflow.keras.layers import Conv2D, MaxPool2D\n",
    "from tensorflow.keras.optimizers import Adam\n",
    "from sklearn.preprocessing import StandardScaler, LabelEncoder\n",
    "\n",
    "from sklearn.metrics import classification_report,confusion_matrix\n"
   ]
  },
  {
   "cell_type": "markdown",
   "id": "ba4673ae",
   "metadata": {},
   "source": [
    "# # Read data & add to X, y"
   ]
  },
  {
   "cell_type": "code",
   "execution_count": 31,
   "id": "ed8c24d3",
   "metadata": {},
   "outputs": [],
   "source": [
    "def load_files(filepath):\n",
    "    dataset = pd.DataFrame()\n",
    "    #y = \n",
    "    for i in range(1, 15):\n",
    "        filename1 = filepath + str(i) + '.csv'\n",
    "        # I need class as a column to be able to do a pairplot\n",
    "        dataset_trainX = pd.read_csv(filename1, usecols=[1,2,3,4], names=['ax', 'ay', 'az', 'class'], header=None)\n",
    "        dataset = dataset.append(dataset_trainX, ignore_index = True)\n",
    "        #position_class\n",
    "\n",
    "    return dataset"
   ]
  },
  {
   "cell_type": "code",
   "execution_count": 32,
   "id": "5ee39c8e",
   "metadata": {},
   "outputs": [],
   "source": [
    "filepath = 'activityRecognition/'\n",
    "dataset = load_files(filepath)"
   ]
  },
  {
   "cell_type": "code",
   "execution_count": 33,
   "id": "02fc8dc1",
   "metadata": {},
   "outputs": [],
   "source": [
    "dataset = dataset[dataset['class'] != 0] # tar bort alla med klass 0"
   ]
  },
  {
   "cell_type": "markdown",
   "id": "62916bca",
   "metadata": {},
   "source": [
    "# Remove outliners"
   ]
  },
  {
   "cell_type": "code",
   "execution_count": 34,
   "id": "97067ce1",
   "metadata": {},
   "outputs": [],
   "source": [
    "# reomve ouliners # ta bort alla extrema värden!\n",
    "\n",
    "#ay\n",
    "max_thresold = dataset[\"ay\"].quantile(0.99997) #0.999985  lägre mindre distru\n",
    "\n",
    "min_thresold = dataset[\"ay\"].quantile(0.000015)  # högre mindre dis -1->5---jag har nu lag högre\n",
    "\n",
    "#az\n",
    "az_max_thresold = dataset[\"az\"].quantile(0.999982) #0.999985  lägre mindre dis\n",
    "\n",
    "az_min_thresold = dataset[\"az\"].quantile(0.00004)  # högre mindre distru -1->5---jag har nu lag högre\n",
    "\n",
    "ax_min_thresold = dataset[\"ax\"].quantile(0.00002)  # högre mindre distru -1->5---jag har nu lag högre\n",
    "#X = X[(X[\"ay\"]<max_thresold) & (X[\"ay\"]>min_thresold)]\n",
    "#X.plot()\n",
    "\n",
    "dataset_noEx = pd.DataFrame()\n",
    "\n",
    "dataset_noEx = dataset[(dataset[\"ay\"]<max_thresold) & (dataset[\"ay\"]>min_thresold) & (dataset[\"az\"]<az_max_thresold) & (dataset[\"az\"]>az_min_thresold)  & (dataset[\"ax\"]>ax_min_thresold)]"
   ]
  },
  {
   "cell_type": "markdown",
   "id": "d0336fcc",
   "metadata": {},
   "source": [
    "# Balance data"
   ]
  },
  {
   "cell_type": "code",
   "execution_count": 35,
   "id": "f662dc5a",
   "metadata": {},
   "outputs": [
    {
     "data": {
      "text/plain": [
       "7    576063\n",
       "1    557067\n",
       "4    339554\n",
       "3    208827\n",
       "5     48198\n",
       "6     46770\n",
       "2     43198\n",
       "Name: class, dtype: int64"
      ]
     },
     "execution_count": 35,
     "metadata": {},
     "output_type": "execute_result"
    }
   ],
   "source": [
    "dataset[\"class\"].value_counts()"
   ]
  },
  {
   "cell_type": "code",
   "execution_count": 36,
   "id": "f5ece898",
   "metadata": {},
   "outputs": [
    {
     "data": {
      "text/plain": [
       "(302386, 4)"
      ]
     },
     "execution_count": 36,
     "metadata": {},
     "output_type": "execute_result"
    }
   ],
   "source": [
    "one = dataset[dataset['class'] == 1].head(43198).copy()\n",
    "two = dataset[dataset['class'] == 2].head(43198).copy()\n",
    "three = dataset[dataset[\"class\"]==3].head(43198).copy()\n",
    "four = dataset[dataset[\"class\"]==4].head(43198).copy()\n",
    "five = dataset[dataset[\"class\"]==5].head(43198).copy()\n",
    "six = dataset[dataset[\"class\"]==6].head(43198).copy()\n",
    "seven = dataset[dataset[\"class\"]==7].head(43198).copy()\n",
    "\n",
    "\n",
    "balanced_data = pd.DataFrame()\n",
    "balanced_data = balanced_data.append([one, two, three, four, five, six, seven])\n",
    "balanced_data.shape\n"
   ]
  },
  {
   "cell_type": "code",
   "execution_count": 37,
   "id": "56d32ce0",
   "metadata": {},
   "outputs": [
    {
     "data": {
      "text/plain": [
       "1    43198\n",
       "2    43198\n",
       "3    43198\n",
       "4    43198\n",
       "5    43198\n",
       "6    43198\n",
       "7    43198\n",
       "Name: class, dtype: int64"
      ]
     },
     "execution_count": 37,
     "metadata": {},
     "output_type": "execute_result"
    }
   ],
   "source": [
    "balanced_data[\"class\"].value_counts()"
   ]
  },
  {
   "cell_type": "code",
   "execution_count": 38,
   "id": "d1273f0a",
   "metadata": {},
   "outputs": [
    {
     "data": {
      "text/html": [
       "<div>\n",
       "<style scoped>\n",
       "    .dataframe tbody tr th:only-of-type {\n",
       "        vertical-align: middle;\n",
       "    }\n",
       "\n",
       "    .dataframe tbody tr th {\n",
       "        vertical-align: top;\n",
       "    }\n",
       "\n",
       "    .dataframe thead th {\n",
       "        text-align: right;\n",
       "    }\n",
       "</style>\n",
       "<table border=\"1\" class=\"dataframe\">\n",
       "  <thead>\n",
       "    <tr style=\"text-align: right;\">\n",
       "      <th></th>\n",
       "      <th>ax</th>\n",
       "      <th>ay</th>\n",
       "      <th>az</th>\n",
       "      <th>class</th>\n",
       "    </tr>\n",
       "  </thead>\n",
       "  <tbody>\n",
       "    <tr>\n",
       "      <th>0</th>\n",
       "      <td>1502</td>\n",
       "      <td>2215</td>\n",
       "      <td>2153</td>\n",
       "      <td>1</td>\n",
       "    </tr>\n",
       "    <tr>\n",
       "      <th>1</th>\n",
       "      <td>1667</td>\n",
       "      <td>2072</td>\n",
       "      <td>2047</td>\n",
       "      <td>1</td>\n",
       "    </tr>\n",
       "    <tr>\n",
       "      <th>2</th>\n",
       "      <td>1611</td>\n",
       "      <td>1957</td>\n",
       "      <td>1906</td>\n",
       "      <td>1</td>\n",
       "    </tr>\n",
       "    <tr>\n",
       "      <th>3</th>\n",
       "      <td>1601</td>\n",
       "      <td>1939</td>\n",
       "      <td>1831</td>\n",
       "      <td>1</td>\n",
       "    </tr>\n",
       "    <tr>\n",
       "      <th>4</th>\n",
       "      <td>1643</td>\n",
       "      <td>1965</td>\n",
       "      <td>1879</td>\n",
       "      <td>1</td>\n",
       "    </tr>\n",
       "  </tbody>\n",
       "</table>\n",
       "</div>"
      ],
      "text/plain": [
       "     ax    ay    az  class\n",
       "0  1502  2215  2153      1\n",
       "1  1667  2072  2047      1\n",
       "2  1611  1957  1906      1\n",
       "3  1601  1939  1831      1\n",
       "4  1643  1965  1879      1"
      ]
     },
     "execution_count": 38,
     "metadata": {},
     "output_type": "execute_result"
    }
   ],
   "source": [
    "balanced_data.head()"
   ]
  },
  {
   "cell_type": "markdown",
   "id": "1157765b",
   "metadata": {},
   "source": [
    "# Split data"
   ]
  },
  {
   "cell_type": "code",
   "execution_count": 39,
   "id": "bcc19591",
   "metadata": {},
   "outputs": [],
   "source": [
    "X = balanced_data[['ax', 'ay', 'az']]\n",
    "y = balanced_data['class']"
   ]
  },
  {
   "cell_type": "code",
   "execution_count": null,
   "id": "71610849",
   "metadata": {},
   "outputs": [],
   "source": []
  },
  {
   "cell_type": "markdown",
   "id": "9dd5b1d6",
   "metadata": {},
   "source": [
    "# Standard scalar"
   ]
  },
  {
   "cell_type": "code",
   "execution_count": 40,
   "id": "f638edcc",
   "metadata": {},
   "outputs": [
    {
     "data": {
      "text/html": [
       "<div>\n",
       "<style scoped>\n",
       "    .dataframe tbody tr th:only-of-type {\n",
       "        vertical-align: middle;\n",
       "    }\n",
       "\n",
       "    .dataframe tbody tr th {\n",
       "        vertical-align: top;\n",
       "    }\n",
       "\n",
       "    .dataframe thead th {\n",
       "        text-align: right;\n",
       "    }\n",
       "</style>\n",
       "<table border=\"1\" class=\"dataframe\">\n",
       "  <thead>\n",
       "    <tr style=\"text-align: right;\">\n",
       "      <th></th>\n",
       "      <th>ax</th>\n",
       "      <th>ay</th>\n",
       "      <th>az</th>\n",
       "      <th>class</th>\n",
       "    </tr>\n",
       "  </thead>\n",
       "  <tbody>\n",
       "    <tr>\n",
       "      <th>0</th>\n",
       "      <td>-4.360582</td>\n",
       "      <td>-1.897328</td>\n",
       "      <td>1.715083</td>\n",
       "      <td>1</td>\n",
       "    </tr>\n",
       "    <tr>\n",
       "      <th>1</th>\n",
       "      <td>-2.864340</td>\n",
       "      <td>-3.680314</td>\n",
       "      <td>0.580267</td>\n",
       "      <td>1</td>\n",
       "    </tr>\n",
       "    <tr>\n",
       "      <th>2</th>\n",
       "      <td>-3.372156</td>\n",
       "      <td>-5.114184</td>\n",
       "      <td>-0.929253</td>\n",
       "      <td>1</td>\n",
       "    </tr>\n",
       "    <tr>\n",
       "      <th>3</th>\n",
       "      <td>-3.462837</td>\n",
       "      <td>-5.338616</td>\n",
       "      <td>-1.732190</td>\n",
       "      <td>1</td>\n",
       "    </tr>\n",
       "    <tr>\n",
       "      <th>4</th>\n",
       "      <td>-3.081976</td>\n",
       "      <td>-5.014437</td>\n",
       "      <td>-1.218311</td>\n",
       "      <td>1</td>\n",
       "    </tr>\n",
       "    <tr>\n",
       "      <th>...</th>\n",
       "      <td>...</td>\n",
       "      <td>...</td>\n",
       "      <td>...</td>\n",
       "      <td>...</td>\n",
       "    </tr>\n",
       "    <tr>\n",
       "      <th>302381</th>\n",
       "      <td>-0.824011</td>\n",
       "      <td>0.534017</td>\n",
       "      <td>0.762266</td>\n",
       "      <td>7</td>\n",
       "    </tr>\n",
       "    <tr>\n",
       "      <th>302382</th>\n",
       "      <td>-0.733329</td>\n",
       "      <td>0.770917</td>\n",
       "      <td>0.708736</td>\n",
       "      <td>7</td>\n",
       "    </tr>\n",
       "    <tr>\n",
       "      <th>302383</th>\n",
       "      <td>-0.805874</td>\n",
       "      <td>0.745980</td>\n",
       "      <td>0.494620</td>\n",
       "      <td>7</td>\n",
       "    </tr>\n",
       "    <tr>\n",
       "      <th>302384</th>\n",
       "      <td>-0.905624</td>\n",
       "      <td>0.396864</td>\n",
       "      <td>0.216269</td>\n",
       "      <td>7</td>\n",
       "    </tr>\n",
       "    <tr>\n",
       "      <th>302385</th>\n",
       "      <td>-0.842147</td>\n",
       "      <td>0.197369</td>\n",
       "      <td>0.119917</td>\n",
       "      <td>7</td>\n",
       "    </tr>\n",
       "  </tbody>\n",
       "</table>\n",
       "<p>302386 rows × 4 columns</p>\n",
       "</div>"
      ],
      "text/plain": [
       "              ax        ay        az  class\n",
       "0      -4.360582 -1.897328  1.715083      1\n",
       "1      -2.864340 -3.680314  0.580267      1\n",
       "2      -3.372156 -5.114184 -0.929253      1\n",
       "3      -3.462837 -5.338616 -1.732190      1\n",
       "4      -3.081976 -5.014437 -1.218311      1\n",
       "...          ...       ...       ...    ...\n",
       "302381 -0.824011  0.534017  0.762266      7\n",
       "302382 -0.733329  0.770917  0.708736      7\n",
       "302383 -0.805874  0.745980  0.494620      7\n",
       "302384 -0.905624  0.396864  0.216269      7\n",
       "302385 -0.842147  0.197369  0.119917      7\n",
       "\n",
       "[302386 rows x 4 columns]"
      ]
     },
     "execution_count": 40,
     "metadata": {},
     "output_type": "execute_result"
    }
   ],
   "source": [
    "sc=StandardScaler()\n",
    "X = sc.fit_transform(X)\n",
    "\n",
    "scaled_X = pd.DataFrame(data = X, columns= ['ax', 'ay', 'az'])\n",
    "scaled_X['class'] = y.values\n",
    "\n",
    "scaled_X"
   ]
  },
  {
   "cell_type": "markdown",
   "id": "f28b1f1d",
   "metadata": {},
   "source": [
    "# Frame preparation"
   ]
  },
  {
   "cell_type": "code",
   "execution_count": 41,
   "id": "ab1ef25d",
   "metadata": {},
   "outputs": [],
   "source": [
    "import scipy.stats as stats"
   ]
  },
  {
   "cell_type": "code",
   "execution_count": 42,
   "id": "51af2573",
   "metadata": {},
   "outputs": [],
   "source": [
    "fs = 52\n",
    "frame_size = fs*1 #52 samples\n",
    "hop_size = fs*2 #40"
   ]
  },
  {
   "cell_type": "code",
   "execution_count": 43,
   "id": "5d3b0d8b",
   "metadata": {},
   "outputs": [],
   "source": [
    "def get_frames(df, frame_size, hop_size):\n",
    "    N_FEATURES = 3\n",
    "    \n",
    "    frames = []\n",
    "    labels = []\n",
    "    for i in range(0, len(df) - frame_size, hop_size):\n",
    "        x = df['ax'].values[i: i + frame_size]\n",
    "        y = df['ay'].values[i: i + frame_size]\n",
    "        z = df['az'].values[i: i + frame_size]\n",
    "               \n",
    "        #retrive the most often used label in this segment\n",
    "        label = stats.mode(df['class'][i: i + frame_size])[0][0]\n",
    "        frames.append([x, y, z])\n",
    "        labels.append(label)\n",
    "            \n",
    "    #bring the segments into a better shape\n",
    "    frames = np.asarray(frames).reshape(-1, frame_size, N_FEATURES)\n",
    "    labels = np.asarray(labels)\n",
    "                              \n",
    "    return frames, labels"
   ]
  },
  {
   "cell_type": "code",
   "execution_count": 44,
   "id": "e757339b",
   "metadata": {},
   "outputs": [],
   "source": [
    "X, y = get_frames(scaled_X, frame_size, hop_size)"
   ]
  },
  {
   "cell_type": "code",
   "execution_count": 45,
   "id": "80e2a86d",
   "metadata": {},
   "outputs": [
    {
     "data": {
      "text/plain": [
       "((2908, 52, 3), (2908,))"
      ]
     },
     "execution_count": 45,
     "metadata": {},
     "output_type": "execute_result"
    }
   ],
   "source": [
    "X.shape, y.shape"
   ]
  },
  {
   "cell_type": "code",
   "execution_count": 46,
   "id": "215ae733",
   "metadata": {},
   "outputs": [],
   "source": [
    "X_train, X_test, y_train, y_test = train_test_split(X, y, test_size=0.2, random_state=0, stratify=y)"
   ]
  },
  {
   "cell_type": "code",
   "execution_count": 47,
   "id": "1193a4b2",
   "metadata": {},
   "outputs": [
    {
     "data": {
      "text/plain": [
       "((2326, 52, 3), (582, 52, 3))"
      ]
     },
     "execution_count": 47,
     "metadata": {},
     "output_type": "execute_result"
    }
   ],
   "source": [
    "X_train.shape, X_test.shape"
   ]
  },
  {
   "cell_type": "code",
   "execution_count": 48,
   "id": "af497693",
   "metadata": {},
   "outputs": [
    {
     "data": {
      "text/plain": [
       "((52, 3), (52, 3))"
      ]
     },
     "execution_count": 48,
     "metadata": {},
     "output_type": "execute_result"
    }
   ],
   "source": [
    "X_train[0].shape, X_train[0].shape"
   ]
  },
  {
   "cell_type": "code",
   "execution_count": 49,
   "id": "5e5fe81e",
   "metadata": {},
   "outputs": [],
   "source": [
    "X_train = X_train.reshape(2326, 52, 3, 1)\n",
    "X_test = X_test.reshape(582, 52, 3, 1)"
   ]
  },
  {
   "cell_type": "code",
   "execution_count": 50,
   "id": "260ac20c",
   "metadata": {},
   "outputs": [
    {
     "data": {
      "text/plain": [
       "((52, 3, 1), (52, 3, 1))"
      ]
     },
     "execution_count": 50,
     "metadata": {},
     "output_type": "execute_result"
    }
   ],
   "source": [
    "X_train[0].shape, X_train[0].shape"
   ]
  },
  {
   "cell_type": "code",
   "execution_count": null,
   "id": "7171617d",
   "metadata": {},
   "outputs": [],
   "source": []
  },
  {
   "cell_type": "markdown",
   "id": "e43dd241",
   "metadata": {},
   "source": [
    "# 2D CNN Model"
   ]
  },
  {
   "cell_type": "code",
   "execution_count": 51,
   "id": "1ca1ce76",
   "metadata": {},
   "outputs": [],
   "source": [
    "model = Sequential()\n",
    "model.add(Conv2D(16, (2,2), activation = 'relu', input_shape = X_train[0].shape))\n",
    "model.add(Dropout(0.1))\n",
    "\n",
    "model.add(Conv2D(32, (2,2), activation='relu'))\n",
    "model.add(Dropout(0.2))\n",
    "\n",
    "model.add(Flatten())\n",
    "\n",
    "model.add(Dense(64, activation = 'relu'))\n",
    "model.add(Dropout(0.5))\n",
    "\n",
    "model.add(Dense(8, activation='softmax'))"
   ]
  },
  {
   "cell_type": "code",
   "execution_count": 52,
   "id": "1b7928d8",
   "metadata": {},
   "outputs": [],
   "source": [
    "model.compile(optimizer=Adam(learning_rate= 0.001), loss = 'sparse_categorical_crossentropy', metrics= ['accuracy'])"
   ]
  },
  {
   "cell_type": "code",
   "execution_count": 53,
   "id": "33351079",
   "metadata": {},
   "outputs": [
    {
     "name": "stdout",
     "output_type": "stream",
     "text": [
      "Train on 2326 samples, validate on 582 samples\n",
      "Epoch 1/10\n",
      "2326/2326 [==============================] - 1s 392us/sample - loss: 1.6686 - accuracy: 0.4226 - val_loss: 1.2033 - val_accuracy: 0.5756\n",
      "Epoch 2/10\n",
      "2326/2326 [==============================] - 0s 136us/sample - loss: 1.2275 - accuracy: 0.5757 - val_loss: 1.0234 - val_accuracy: 0.6546\n",
      "Epoch 3/10\n",
      "2326/2326 [==============================] - 0s 122us/sample - loss: 1.1075 - accuracy: 0.6131 - val_loss: 0.9289 - val_accuracy: 0.6770\n",
      "Epoch 4/10\n",
      "2326/2326 [==============================] - 0s 130us/sample - loss: 1.0159 - accuracy: 0.6414 - val_loss: 0.8964 - val_accuracy: 0.6890\n",
      "Epoch 5/10\n",
      "2326/2326 [==============================] - 0s 132us/sample - loss: 1.0042 - accuracy: 0.6496 - val_loss: 0.8549 - val_accuracy: 0.7045\n",
      "Epoch 6/10\n",
      "2326/2326 [==============================] - 0s 122us/sample - loss: 0.9246 - accuracy: 0.6763 - val_loss: 0.8410 - val_accuracy: 0.6959\n",
      "Epoch 7/10\n",
      "2326/2326 [==============================] - 0s 119us/sample - loss: 0.9108 - accuracy: 0.6771 - val_loss: 0.8087 - val_accuracy: 0.7302\n",
      "Epoch 8/10\n",
      "2326/2326 [==============================] - 0s 115us/sample - loss: 0.8681 - accuracy: 0.6853 - val_loss: 0.7936 - val_accuracy: 0.7216\n",
      "Epoch 9/10\n",
      "2326/2326 [==============================] - 0s 112us/sample - loss: 0.8381 - accuracy: 0.7150 - val_loss: 0.7813 - val_accuracy: 0.7131\n",
      "Epoch 10/10\n",
      "2326/2326 [==============================] - 0s 110us/sample - loss: 0.8136 - accuracy: 0.7111 - val_loss: 0.7518 - val_accuracy: 0.7371\n"
     ]
    }
   ],
   "source": [
    "history = model.fit(X_train, y_train, epochs=10, validation_data = (X_test, y_test), verbose=1, use_multiprocessing = True)"
   ]
  },
  {
   "cell_type": "markdown",
   "id": "acf418e6",
   "metadata": {},
   "source": [
    "# Learning curve"
   ]
  },
  {
   "cell_type": "code",
   "execution_count": 54,
   "id": "ed5b8ce6",
   "metadata": {},
   "outputs": [],
   "source": [
    "def plot_learningCurve(history, epochs):\n",
    "    epoch_range = range(1, epochs+1)\n",
    "    plt.plot(epoch_range, history.history['accuracy'])\n",
    "    plt.plot(epoch_range, history.history['val_accuracy'])\n",
    "    plt.title('Model accuracy')\n",
    "    plt.ylabel(\"Accuracy\")\n",
    "    plt.xlabel(\"Epoch\")\n",
    "    plt.legend(['Train', 'Val'], loc='upper left')\n",
    "    plt.show()\n",
    "    \n",
    "    #plot training & validation loss values\n",
    "    plt.plot(epoch_range, history.history['loss'])\n",
    "    plt.plot(epoch_range, history.history['val_loss'])\n",
    "    plt.title('Model loss')\n",
    "    plt.ylabel(\"Loss\")\n",
    "    plt.xlabel(\"Epoch\")\n",
    "    plt.legend(['Train', 'Val'], loc='upper left')\n",
    "    plt.show()\n",
    "    "
   ]
  },
  {
   "cell_type": "code",
   "execution_count": 55,
   "id": "3f1f3554",
   "metadata": {},
   "outputs": [
    {
     "data": {
      "image/png": "[encoded data removed]",
      "text/plain": [
       "<Figure size 432x288 with 1 Axes>"
      ]
     },
     "metadata": {
      "needs_background": "light"
     },
     "output_type": "display_data"
    },
    {
     "data": {
      "image/png": "[encoded data removed]",
      "text/plain": [
       "<Figure size 432x288 with 1 Axes>"
      ]
     },
     "metadata": {
      "needs_background": "light"
     },
     "output_type": "display_data"
    }
   ],
   "source": [
    "plot_learningCurve(history, 10)"
   ]
  },
  {
   "cell_type": "markdown",
   "id": "e920e179",
   "metadata": {},
   "source": [
    "# Confusion matrix"
   ]
  },
  {
   "cell_type": "code",
   "execution_count": 56,
   "id": "fda12e47",
   "metadata": {},
   "outputs": [],
   "source": [
    "from sklearn.metrics import confusion_matrix\n",
    "from mlxtend.plotting import plot_confusion_matrix"
   ]
  },
  {
   "cell_type": "code",
   "execution_count": 57,
   "id": "58ba8597",
   "metadata": {},
   "outputs": [
    {
     "data": {
      "text/plain": [
       "(<Figure size 504x504 with 1 Axes>,\n",
       " <matplotlib.axes._subplots.AxesSubplot at 0x231506869c8>)"
      ]
     },
     "execution_count": 57,
     "metadata": {},
     "output_type": "execute_result"
    },
    {
     "data": {
      "image/png": "[encoded data removed]",
      "text/plain": [
       "<Figure size 504x504 with 1 Axes>"
      ]
     },
     "metadata": {
      "needs_background": "light"
     },
     "output_type": "display_data"
    }
   ],
   "source": [
    "y_pred = model.predict_classes(X_test)\n",
    "\n",
    "mat = confusion_matrix(y_test, y_pred)\n",
    "plot_confusion_matrix(conf_mat=mat, class_names=['1', '2', '3', '4', '5', \n",
    "                                                '6', '7'], show_normed=False, figsize=(7,7), cmap=plt.cm.Reds)"
   ]
  },
  {
   "cell_type": "code",
   "execution_count": 58,
   "id": "9bcc0c3e",
   "metadata": {},
   "outputs": [
    {
     "name": "stdout",
     "output_type": "stream",
     "text": [
      "              precision    recall  f1-score   support\n",
      "\n",
      "           1       0.88      0.99      0.93        83\n",
      "           2       0.80      0.64      0.71        83\n",
      "           3       0.62      0.53      0.57        83\n",
      "           4       0.78      0.87      0.82        84\n",
      "           5       0.64      0.55      0.59        83\n",
      "           6       0.63      0.60      0.62        83\n",
      "           7       0.75      0.98      0.85        83\n",
      "\n",
      "    accuracy                           0.74       582\n",
      "   macro avg       0.73      0.74      0.73       582\n",
      "weighted avg       0.73      0.74      0.73       582\n",
      "\n"
     ]
    }
   ],
   "source": [
    "# Confusion Matrix\n",
    "from sklearn.metrics import confusion_matrix\n",
    "labels = [\"1\", \"2\", \"3\", \"4\", \"5\", \"6\", \"7\"]\n",
    "cm = confusion_matrix(y_test, y_pred)\n",
    "#print(cm, \"CM\")\n",
    "#print(pd.Dataframe(cm))\n",
    "# Accuracy\n",
    "from sklearn.metrics import accuracy_score\n",
    "#print(accuracy_score(y_test, y_pred) , \"AC\")\n",
    "# Recall\n",
    "from sklearn.metrics import recall_score\n",
    "#print(recall_score(y_test, y_pred, average=None), \"RE\")\n",
    "# Precision\n",
    "from sklearn.metrics import precision_score\n",
    "#print(precision_score(y_test, y_pred, average=None) , \"PR\")\n",
    "\n",
    "# info \n",
    "from sklearn.metrics import classification_report\n",
    "print(classification_report(y_test, y_pred))"
   ]
  },
  {
   "cell_type": "code",
   "execution_count": null,
   "id": "ffc23c09",
   "metadata": {},
   "outputs": [],
   "source": []
  }
 ],
 "metadata": {
  "kernelspec": {
   "display_name": "Python 3 (ipykernel)",
   "language": "python",
   "name": "python3"
  },
  "language_info": {
   "codemirror_mode": {
    "name": "ipython",
    "version": 3
   },
   "file_extension": ".py",
   "mimetype": "text/x-python",
   "name": "python",
   "nbconvert_exporter": "python",
   "pygments_lexer": "ipython3",
   "version": "3.7.10"
  }
 },
 "nbformat": 4,
 "nbformat_minor": 5
}
