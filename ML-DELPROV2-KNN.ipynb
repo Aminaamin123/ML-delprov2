{
 "cells": [
  {
   "cell_type": "markdown",
   "id": "685f3834",
   "metadata": {},
   "source": [
    "# Human monitoring activity"
   ]
  },
  {
   "cell_type": "code",
   "execution_count": 1,
   "id": "78b3a6af",
   "metadata": {},
   "outputs": [],
   "source": [
    "import seaborn as sns\n",
    "\n",
    "import numpy as np\n",
    "import pandas as pd\n",
    "import matplotlib.pyplot as plt\n",
    "from sklearn.model_selection import train_test_split\n",
    "from sklearn.neighbors import KNeighborsClassifier \n",
    "from sklearn.metrics import classification_report,confusion_matrix\n",
    "from sklearn.tree import DecisionTreeClassifier\n",
    "from sklearn.preprocessing import StandardScaler\n",
    "from sklearn.metrics import accuracy_score\n",
    "from sklearn.linear_model import LinearRegression\n",
    "\n",
    "\n",
    "import tensorflow as tf\n",
    "from tensorflow  import keras as k\n",
    "from tensorflow.keras import backend as K\n",
    "from tensorflow.keras.utils import to_categorical"
   ]
  },
  {
   "cell_type": "markdown",
   "id": "ba4673ae",
   "metadata": {},
   "source": [
    "# # Read data & add to X, y"
   ]
  },
  {
   "cell_type": "code",
   "execution_count": 2,
   "id": "ed8c24d3",
   "metadata": {},
   "outputs": [],
   "source": [
    "def load_files(filepath):\n",
    "    dataset = pd.DataFrame()\n",
    "    #y = \n",
    "    for i in range(1, 15):\n",
    "        filename1 = filepath + str(i) + '.csv'\n",
    "        # I need class as a column to be able to do a pairplot\n",
    "        dataset_trainX = pd.read_csv(filename1, usecols=[1,2,3,4], names=['ax', 'ay', 'az', 'class'], header=None)\n",
    "        dataset = dataset.append(dataset_trainX, ignore_index = True)\n",
    "        #position_class\n",
    "\n",
    "    return dataset"
   ]
  },
  {
   "cell_type": "code",
   "execution_count": 3,
   "id": "5ee39c8e",
   "metadata": {},
   "outputs": [],
   "source": [
    "filepath = 'activityRecognition/'\n",
    "dataset = load_files(filepath)"
   ]
  },
  {
   "cell_type": "code",
   "execution_count": 4,
   "id": "6d5bcca0",
   "metadata": {},
   "outputs": [
    {
     "data": {
      "text/html": [
       "<div>\n",
       "<style scoped>\n",
       "    .dataframe tbody tr th:only-of-type {\n",
       "        vertical-align: middle;\n",
       "    }\n",
       "\n",
       "    .dataframe tbody tr th {\n",
       "        vertical-align: top;\n",
       "    }\n",
       "\n",
       "    .dataframe thead th {\n",
       "        text-align: right;\n",
       "    }\n",
       "</style>\n",
       "<table border=\"1\" class=\"dataframe\">\n",
       "  <thead>\n",
       "    <tr style=\"text-align: right;\">\n",
       "      <th></th>\n",
       "      <th>ax</th>\n",
       "      <th>ay</th>\n",
       "      <th>az</th>\n",
       "      <th>class</th>\n",
       "    </tr>\n",
       "  </thead>\n",
       "  <tbody>\n",
       "    <tr>\n",
       "      <th>count</th>\n",
       "      <td>1.823395e+06</td>\n",
       "      <td>1.823395e+06</td>\n",
       "      <td>1.823395e+06</td>\n",
       "      <td>1.823395e+06</td>\n",
       "    </tr>\n",
       "    <tr>\n",
       "      <th>mean</th>\n",
       "      <td>1.982025e+03</td>\n",
       "      <td>2.374125e+03</td>\n",
       "      <td>1.968226e+03</td>\n",
       "      <td>3.938922e+00</td>\n",
       "    </tr>\n",
       "    <tr>\n",
       "      <th>std</th>\n",
       "      <td>1.112281e+02</td>\n",
       "      <td>9.555790e+01</td>\n",
       "      <td>9.515460e+01</td>\n",
       "      <td>2.441348e+00</td>\n",
       "    </tr>\n",
       "    <tr>\n",
       "      <th>min</th>\n",
       "      <td>2.820000e+02</td>\n",
       "      <td>2.000000e+00</td>\n",
       "      <td>1.000000e+00</td>\n",
       "      <td>0.000000e+00</td>\n",
       "    </tr>\n",
       "    <tr>\n",
       "      <th>25%</th>\n",
       "      <td>1.900000e+03</td>\n",
       "      <td>2.334000e+03</td>\n",
       "      <td>1.915000e+03</td>\n",
       "      <td>1.000000e+00</td>\n",
       "    </tr>\n",
       "    <tr>\n",
       "      <th>50%</th>\n",
       "      <td>1.981000e+03</td>\n",
       "      <td>2.362000e+03</td>\n",
       "      <td>1.985000e+03</td>\n",
       "      <td>4.000000e+00</td>\n",
       "    </tr>\n",
       "    <tr>\n",
       "      <th>75%</th>\n",
       "      <td>2.070000e+03</td>\n",
       "      <td>2.395000e+03</td>\n",
       "      <td>2.031000e+03</td>\n",
       "      <td>7.000000e+00</td>\n",
       "    </tr>\n",
       "    <tr>\n",
       "      <th>max</th>\n",
       "      <td>3.828000e+03</td>\n",
       "      <td>4.095000e+03</td>\n",
       "      <td>4.095000e+03</td>\n",
       "      <td>7.000000e+00</td>\n",
       "    </tr>\n",
       "  </tbody>\n",
       "</table>\n",
       "</div>"
      ],
      "text/plain": [
       "                 ax            ay            az         class\n",
       "count  1.823395e+06  1.823395e+06  1.823395e+06  1.823395e+06\n",
       "mean   1.982025e+03  2.374125e+03  1.968226e+03  3.938922e+00\n",
       "std    1.112281e+02  9.555790e+01  9.515460e+01  2.441348e+00\n",
       "min    2.820000e+02  2.000000e+00  1.000000e+00  0.000000e+00\n",
       "25%    1.900000e+03  2.334000e+03  1.915000e+03  1.000000e+00\n",
       "50%    1.981000e+03  2.362000e+03  1.985000e+03  4.000000e+00\n",
       "75%    2.070000e+03  2.395000e+03  2.031000e+03  7.000000e+00\n",
       "max    3.828000e+03  4.095000e+03  4.095000e+03  7.000000e+00"
      ]
     },
     "execution_count": 4,
     "metadata": {},
     "output_type": "execute_result"
    }
   ],
   "source": [
    "#dataset[\"class\"].plot()\n",
    "dataset.describe()"
   ]
  },
  {
   "cell_type": "code",
   "execution_count": 5,
   "id": "02fc8dc1",
   "metadata": {},
   "outputs": [],
   "source": [
    "dataset = dataset[dataset['class'] != 0] # tar bort alla med klass 0"
   ]
  },
  {
   "cell_type": "code",
   "execution_count": 6,
   "id": "0c6b5c01",
   "metadata": {},
   "outputs": [],
   "source": [
    "# test data model function \n",
    "def get_score(model, X_train, X_test, y_train, y_test):\n",
    "    model.fit(X_train, y_train)\n",
    "    return model.score(X_test, y_test)"
   ]
  },
  {
   "cell_type": "code",
   "execution_count": 7,
   "id": "219c3629",
   "metadata": {},
   "outputs": [],
   "source": [
    "#dataset[\"class\"].plot() # kolla så allt stämmer dvs klasserna ligger mellan 1-7"
   ]
  },
  {
   "cell_type": "code",
   "execution_count": 8,
   "id": "a071c066",
   "metadata": {},
   "outputs": [],
   "source": [
    "#dataset.drop('class', inplace=False, axis=1).plot()"
   ]
  },
  {
   "cell_type": "markdown",
   "id": "62916bca",
   "metadata": {},
   "source": [
    "# Remove outliners"
   ]
  },
  {
   "cell_type": "code",
   "execution_count": 9,
   "id": "b076f9c0",
   "metadata": {
    "scrolled": true
   },
   "outputs": [
    {
     "data": {
      "text/html": [
       "<div>\n",
       "<style scoped>\n",
       "    .dataframe tbody tr th:only-of-type {\n",
       "        vertical-align: middle;\n",
       "    }\n",
       "\n",
       "    .dataframe tbody tr th {\n",
       "        vertical-align: top;\n",
       "    }\n",
       "\n",
       "    .dataframe thead th {\n",
       "        text-align: right;\n",
       "    }\n",
       "</style>\n",
       "<table border=\"1\" class=\"dataframe\">\n",
       "  <thead>\n",
       "    <tr style=\"text-align: right;\">\n",
       "      <th></th>\n",
       "      <th>ax</th>\n",
       "      <th>ay</th>\n",
       "      <th>az</th>\n",
       "      <th>class</th>\n",
       "    </tr>\n",
       "  </thead>\n",
       "  <tbody>\n",
       "    <tr>\n",
       "      <th>count</th>\n",
       "      <td>1.819520e+06</td>\n",
       "      <td>1.819520e+06</td>\n",
       "      <td>1.819520e+06</td>\n",
       "      <td>1.819520e+06</td>\n",
       "    </tr>\n",
       "    <tr>\n",
       "      <th>mean</th>\n",
       "      <td>1.981830e+03</td>\n",
       "      <td>2.373882e+03</td>\n",
       "      <td>1.968129e+03</td>\n",
       "      <td>3.947217e+00</td>\n",
       "    </tr>\n",
       "    <tr>\n",
       "      <th>std</th>\n",
       "      <td>1.108444e+02</td>\n",
       "      <td>9.465487e+01</td>\n",
       "      <td>9.438587e+01</td>\n",
       "      <td>2.437288e+00</td>\n",
       "    </tr>\n",
       "    <tr>\n",
       "      <th>min</th>\n",
       "      <td>1.115000e+03</td>\n",
       "      <td>1.042000e+03</td>\n",
       "      <td>1.154000e+03</td>\n",
       "      <td>1.000000e+00</td>\n",
       "    </tr>\n",
       "    <tr>\n",
       "      <th>25%</th>\n",
       "      <td>1.900000e+03</td>\n",
       "      <td>2.334000e+03</td>\n",
       "      <td>1.915000e+03</td>\n",
       "      <td>1.000000e+00</td>\n",
       "    </tr>\n",
       "    <tr>\n",
       "      <th>50%</th>\n",
       "      <td>1.980000e+03</td>\n",
       "      <td>2.362000e+03</td>\n",
       "      <td>1.985000e+03</td>\n",
       "      <td>4.000000e+00</td>\n",
       "    </tr>\n",
       "    <tr>\n",
       "      <th>75%</th>\n",
       "      <td>2.070000e+03</td>\n",
       "      <td>2.394000e+03</td>\n",
       "      <td>2.031000e+03</td>\n",
       "      <td>7.000000e+00</td>\n",
       "    </tr>\n",
       "    <tr>\n",
       "      <th>max</th>\n",
       "      <td>3.154000e+03</td>\n",
       "      <td>3.120000e+03</td>\n",
       "      <td>3.124000e+03</td>\n",
       "      <td>7.000000e+00</td>\n",
       "    </tr>\n",
       "  </tbody>\n",
       "</table>\n",
       "</div>"
      ],
      "text/plain": [
       "                 ax            ay            az         class\n",
       "count  1.819520e+06  1.819520e+06  1.819520e+06  1.819520e+06\n",
       "mean   1.981830e+03  2.373882e+03  1.968129e+03  3.947217e+00\n",
       "std    1.108444e+02  9.465487e+01  9.438587e+01  2.437288e+00\n",
       "min    1.115000e+03  1.042000e+03  1.154000e+03  1.000000e+00\n",
       "25%    1.900000e+03  2.334000e+03  1.915000e+03  1.000000e+00\n",
       "50%    1.980000e+03  2.362000e+03  1.985000e+03  4.000000e+00\n",
       "75%    2.070000e+03  2.394000e+03  2.031000e+03  7.000000e+00\n",
       "max    3.154000e+03  3.120000e+03  3.124000e+03  7.000000e+00"
      ]
     },
     "execution_count": 9,
     "metadata": {},
     "output_type": "execute_result"
    }
   ],
   "source": [
    "# reomve ouliners # ta bort alla extrema värden!\n",
    "\n",
    "#ay\n",
    "max_thresold = dataset[\"ay\"].quantile(0.99997) #0.999985  lägre mindre distru\n",
    "\n",
    "min_thresold = dataset[\"ay\"].quantile(0.000015)  # högre mindre dis -1->5---jag har nu lag högre\n",
    "\n",
    "#az\n",
    "az_max_thresold = dataset[\"az\"].quantile(0.999982) #0.999985  lägre mindre dis\n",
    "\n",
    "az_min_thresold = dataset[\"az\"].quantile(0.00004)  # högre mindre distru -1->5---jag har nu lag högre\n",
    "\n",
    "ax_min_thresold = dataset[\"ax\"].quantile(0.00002)  # högre mindre distru -1->5---jag har nu lag högre\n",
    "#X = X[(X[\"ay\"]<max_thresold) & (X[\"ay\"]>min_thresold)]\n",
    "#X.plot()\n",
    "\n",
    "dataset_noEx = pd.DataFrame()\n",
    "\n",
    "dataset_noEx = dataset[(dataset[\"ay\"]<max_thresold) & (dataset[\"ay\"]>min_thresold) & (dataset[\"az\"]<az_max_thresold) & (dataset[\"az\"]>az_min_thresold)  & (dataset[\"ax\"]>ax_min_thresold)]\n",
    "\n",
    "dataset_noEx.head()\n",
    "dataset_noEx.describe()"
   ]
  },
  {
   "cell_type": "code",
   "execution_count": 10,
   "id": "935e7ad1",
   "metadata": {},
   "outputs": [],
   "source": [
    "#sns_plot = sns.pairplot(dataset_noEx, hue=\"class\", palette=\"coolwarm\")"
   ]
  },
  {
   "cell_type": "markdown",
   "id": "3398bf57",
   "metadata": {},
   "source": [
    "# Split data"
   ]
  },
  {
   "cell_type": "code",
   "execution_count": 11,
   "id": "71610849",
   "metadata": {},
   "outputs": [],
   "source": [
    "#split data to x y.\n",
    "X = dataset_noEx.drop('class', inplace=False, axis=1)\n",
    "y = dataset_noEx.drop(['ax', 'ay', 'az'], inplace=False, axis=1)\n",
    "\n",
    "from sklearn.model_selection import train_test_split\n",
    "X_train, X_test, y_train, y_test = train_test_split(X, y, test_size=0.2)"
   ]
  },
  {
   "cell_type": "markdown",
   "id": "9dd5b1d6",
   "metadata": {},
   "source": [
    "# Standard scalar"
   ]
  },
  {
   "cell_type": "code",
   "execution_count": 12,
   "id": "f638edcc",
   "metadata": {},
   "outputs": [],
   "source": [
    "from sklearn.preprocessing import StandardScaler\n",
    "# standard scale  ???? ska man???\n",
    "sc=StandardScaler()\n",
    "train_x=sc.fit_transform(X_train)\n",
    "test_x=sc.fit_transform(X_test)"
   ]
  },
  {
   "cell_type": "markdown",
   "id": "081bb24f",
   "metadata": {},
   "source": [
    "# KNN"
   ]
  },
  {
   "cell_type": "code",
   "execution_count": 13,
   "id": "7fe86bfb",
   "metadata": {},
   "outputs": [
    {
     "name": "stderr",
     "output_type": "stream",
     "text": [
      "C:\\Users\\amina\\anaconda3\\envs\\env-tf\\lib\\site-packages\\sklearn\\neighbors\\_classification.py:179: DataConversionWarning: A column-vector y was passed when a 1d array was expected. Please change the shape of y to (n_samples,), for example using ravel().\n",
      "  return self._fit(X, y)\n"
     ]
    },
    {
     "data": {
      "text/plain": [
       "KNeighborsClassifier(n_neighbors=65)"
      ]
     },
     "execution_count": 13,
     "metadata": {},
     "output_type": "execute_result"
    }
   ],
   "source": [
    "Y = y_train[\"class\"]\n",
    "from sklearn.neighbors import KNeighborsClassifier\n",
    "classifier = KNeighborsClassifier(n_neighbors=65) \n",
    "classifier.fit(train_x, y_train)"
   ]
  },
  {
   "cell_type": "code",
   "execution_count": 14,
   "id": "236dcfd1",
   "metadata": {},
   "outputs": [
    {
     "data": {
      "text/plain": [
       "'\\nprint(confusion_matrix(y_test, y_pred))\\nMSE = np.square(np.subtract(y_test[\"class\"], y_pred)).mean()\\nimport math\\nRMSE = math.sqrt(MSE)\\nprint(RMSE)\\n\\nfrom sklearn.metrics import mean_squared_error\\nMSE = mean_squared_error(y_test, y_pred)\\nRMSE = math.sqrt(MSE)\\nprint(RMSE)\\n#accuracy_score(actual, predicted)\\n'"
      ]
     },
     "execution_count": 14,
     "metadata": {},
     "output_type": "execute_result"
    }
   ],
   "source": [
    "y_pred = classifier.predict(test_x)\n",
    "from sklearn.metrics import classification_report, confusion_matrix\n",
    "\n",
    "#print(classification_report(y_test, y_pred))\n",
    "\"\"\"\n",
    "print(confusion_matrix(y_test, y_pred))\n",
    "MSE = np.square(np.subtract(y_test[\"class\"], y_pred)).mean()\n",
    "import math\n",
    "RMSE = math.sqrt(MSE)\n",
    "print(RMSE)\n",
    "\n",
    "from sklearn.metrics import mean_squared_error\n",
    "MSE = mean_squared_error(y_test, y_pred)\n",
    "RMSE = math.sqrt(MSE)\n",
    "print(RMSE)\n",
    "#accuracy_score(actual, predicted)\n",
    "\"\"\""
   ]
  },
  {
   "cell_type": "code",
   "execution_count": 15,
   "id": "0ffdff0e",
   "metadata": {},
   "outputs": [
    {
     "data": {
      "text/plain": [
       "'X_train, X_test, y_train, y_test = train_test_split(X, y, test_size=0.2)\\nfrom sklearn.preprocessing import StandardScaler\\nbest = 0 #testing the best nr for k\\nlastAcc = 0\\nlistAcc = []\\nfor x in range(1,10):\\n    # standard scale  ???? ska man???\\n    sc=StandardScaler()\\n    train_x=sc.fit_transform(X_train)\\n    test_x=sc.fit_transform(X_test)\\n\\n    Y = y_train[\"class\"]\\n    from sklearn.neighbors import KNeighborsClassifier\\n    classifier = KNeighborsClassifier(n_neighbors=x) # testa dig fram till bästa resulat- skapa en for loop som kollar\\n    classifier.fit(X_train, Y)\\n\\n    acc = get_score(classifier, X_train, X_test, y_train, y_test)\\n    if acc > lastAcc:\\n        best = x\\n        lastAcc = acc\\n    keeper =\"K: \", x, \"Acc: \", acc\\n    listAcc.append(keeper)\\n    \\n    #accuracy_score(actual, predicted)\\nlistAcc\\nbest\\n'"
      ]
     },
     "execution_count": 15,
     "metadata": {},
     "output_type": "execute_result"
    }
   ],
   "source": [
    "\"\"\"X_train, X_test, y_train, y_test = train_test_split(X, y, test_size=0.2)\n",
    "from sklearn.preprocessing import StandardScaler\n",
    "best = 0 #testing the best nr for k\n",
    "lastAcc = 0\n",
    "listAcc = []\n",
    "for x in range(1,10):\n",
    "    # standard scale  ???? ska man???\n",
    "    sc=StandardScaler()\n",
    "    train_x=sc.fit_transform(X_train)\n",
    "    test_x=sc.fit_transform(X_test)\n",
    "\n",
    "    Y = y_train[\"class\"]\n",
    "    from sklearn.neighbors import KNeighborsClassifier\n",
    "    classifier = KNeighborsClassifier(n_neighbors=x) # testa dig fram till bästa resulat- skapa en for loop som kollar\n",
    "    classifier.fit(X_train, Y)\n",
    "\n",
    "    acc = get_score(classifier, X_train, X_test, y_train, y_test)\n",
    "    if acc > lastAcc:\n",
    "        best = x\n",
    "        lastAcc = acc\n",
    "    keeper =\"K: \", x, \"Acc: \", acc\n",
    "    listAcc.append(keeper)\n",
    "    \n",
    "    #accuracy_score(actual, predicted)\n",
    "listAcc\n",
    "best\n",
    "\"\"\""
   ]
  },
  {
   "cell_type": "markdown",
   "id": "97ab4c5b",
   "metadata": {},
   "source": [
    "# Confusion matrix"
   ]
  },
  {
   "cell_type": "code",
   "execution_count": 16,
   "id": "fbfbdbed",
   "metadata": {},
   "outputs": [
    {
     "data": {
      "text/plain": [
       "array([[103736,    502,    934,   2812,     57,     20,   3545],\n",
       "       [  3768,   1191,    465,   1913,     25,      9,   1362],\n",
       "       [  2029,     99,  20050,   8941,    665,    410,   9420],\n",
       "       [  4625,     72,   3116,  50963,    162,    198,   8458],\n",
       "       [   801,      4,   1848,   4016,   1207,    130,   1616],\n",
       "       [   389,      4,   1063,   1737,    376,   1971,   3995],\n",
       "       [  3562,    101,   4182,   7068,    152,    832,  99303]],\n",
       "      dtype=int64)"
      ]
     },
     "execution_count": 16,
     "metadata": {},
     "output_type": "execute_result"
    }
   ],
   "source": [
    "from sklearn.metrics import confusion_matrix\n",
    "from sklearn.metrics import accuracy_score\n",
    "from sklearn.metrics import plot_confusion_matrix\n",
    "\n",
    "confusion_matrix(y_test, y_pred)"
   ]
  },
  {
   "cell_type": "code",
   "execution_count": null,
   "id": "c43d652c",
   "metadata": {},
   "outputs": [],
   "source": [
    "matrix = plot_confusion_matrix(classifier, test_x, y_test, cmap=plt.cm.Reds)\n",
    "matrix.ax_.set_title(\"Confusion Matrix\")\n",
    "plt.xlabel('Predicted label')\n",
    "plt.ylabel('True label')\n",
    "plt.gcf().set_size_inches(10, 6)"
   ]
  },
  {
   "cell_type": "code",
   "execution_count": null,
   "id": "7caded66",
   "metadata": {},
   "outputs": [],
   "source": [
    "# Confusion Matrix\n",
    "from sklearn.metrics import confusion_matrix\n",
    "labels = [\"1\", \"2\", \"3\", \"4\", \"5\", \"6\", \"7\"]\n",
    "cm = confusion_matrix(y_test, y_pred)\n",
    "#print(cm, \"CM\")\n",
    "#print(pd.Dataframe(cm))\n",
    "# Accuracy\n",
    "from sklearn.metrics import accuracy_score\n",
    "#print(accuracy_score(y_test, y_pred) , \"AC\")\n",
    "# Recall\n",
    "from sklearn.metrics import recall_score\n",
    "#print(recall_score(y_test, y_pred, average=None), \"RE\")\n",
    "# Precision\n",
    "from sklearn.metrics import precision_score\n",
    "#print(precision_score(y_test, y_pred, average=None) , \"PR\")\n",
    "\n",
    "# info \n",
    "from sklearn.metrics import classification_report\n",
    "print(classification_report(y_test, y_pred))"
   ]
  },
  {
   "cell_type": "code",
   "execution_count": null,
   "id": "f2a5e126",
   "metadata": {},
   "outputs": [],
   "source": []
  }
 ],
 "metadata": {
  "kernelspec": {
   "display_name": "Python 3 (ipykernel)",
   "language": "python",
   "name": "python3"
  },
  "language_info": {
   "codemirror_mode": {
    "name": "ipython",
    "version": 3
   },
   "file_extension": ".py",
   "mimetype": "text/x-python",
   "name": "python",
   "nbconvert_exporter": "python",
   "pygments_lexer": "ipython3",
   "version": "3.7.10"
  }
 },
 "nbformat": 4,
 "nbformat_minor": 5
}
